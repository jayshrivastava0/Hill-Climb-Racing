{
 "cells": [
  {
   "cell_type": "code",
   "execution_count": 54,
   "metadata": {},
   "outputs": [],
   "source": [
    "from gymnasium import Env\n",
    "import gymnasium as gym\n",
    "import numpy as np\n",
    "import matplotlib.pyplot as plt\n",
    "import importlib\n",
    "# from screen_record import window_capture\n",
    "import cv2\n",
    "import template_matching\n",
    "import time\n",
    "import screen_record\n",
    "# importlib.reload(screen_record)\n",
    "importlib.reload(screen_record)\n",
    "importlib.reload(template_matching)\n",
    "from screen_record import window_capture\n",
    "import pydirectinput\n",
    "import pyautogui\n",
    "import pygetwindow\n",
    "\n",
    "\n",
    "\n",
    "\n",
    "height = 200\n",
    "width = 200\n",
    "channels = 3\n",
    "\n",
    "\n",
    "class HillClimbRacingEnv(Env):\n",
    "    def __init__(self) -> None:\n",
    "        super().__init__()\n",
    "        ## Action spaces will be gas, break, and doing nothing\n",
    "        self.action_space = gym.spaces.Discrete(3)\n",
    "        # Define observation space\n",
    "        self.observation_space = gym.spaces.Box(low=0, high=255, shape=(10, height, width, channels), dtype=np.uint8)  # Image frame \n",
    "        self.left_coordinate = 0\n",
    "        self.bottom_coordinate = 0\n",
    "        self.top_coordinate = 0\n",
    "        self.right_coordinate = 0\n",
    "\n",
    "\n",
    "    def get_screen_capture(self):\n",
    "        WINDOW_NAME = \"Hill Climb Racing\"\n",
    "\n",
    "        # Capture window\n",
    "        capture = window_capture(WINDOW_NAME)\n",
    "        frame_hsv = capture.start_capture()\n",
    "        img_rgb = cv2.cvtColor(frame_hsv, cv2.COLOR_BGR2RGB)\n",
    "        # Get the coordinates of the game window relative to the screen\n",
    "        self.left_coordinate, self.top_coordinate, self.right_coordinate, self.bottom_coordinate = capture.get_window_coordinates()\n",
    "        return img_rgb\n",
    "\n",
    "\n",
    "    \n",
    "    def game_over(self, screen_frame):\n",
    "        template_match_check1 = template_matching.match_template(screen_frame, r\"D:\\OneDrive - University at Buffalo\\Projects\\Misc\\Hill Climb Racing\\game_over\\out_of_fuel.png\")\n",
    "        template_match_check2 = template_matching.match_template(screen_frame, r\"D:\\OneDrive - University at Buffalo\\Projects\\Misc\\Hill Climb Racing\\game_over\\driver_down.png\")\n",
    "        if template_match_check2 or template_match_check1:\n",
    "            return True\n",
    "        return False\n",
    "    \n",
    "    def step(self, action):\n",
    "        action_map = {\n",
    "            0: None,  # No Key\n",
    "            1: \"right\",  # Right Arrow Key\n",
    "            2: \"left\"  # Left Arrow Key\n",
    "        }\n",
    "\n",
    "        # Release all keys\n",
    "        pydirectinput.keyUp('right')\n",
    "        pydirectinput.keyUp('left')\n",
    "\n",
    "        # Press the specified key\n",
    "        if action != 0:\n",
    "            key = action_map.get(action)\n",
    "            if key:\n",
    "                pydirectinput.keyDown(key)\n",
    "\n",
    "        next_frame = self.get_screen_capture()\n",
    "        is_game_over = self.game_over(next_frame)\n",
    "        reward = 1\n",
    "        info = {}\n",
    "\n",
    "        return next_frame, reward, is_game_over, info\n",
    "    \n",
    "    def render(self):\n",
    "        while cv2.waitKey(1) != ord(\"q\"):\n",
    "            cv2.imshow(\"GamePlay\", cv2.cvtColor(self.get_screen_capture(), cv2.COLOR_BGR2RGB))\n",
    "\n",
    "        \n",
    "    def close(self):\n",
    "        cv2.destroyAllWindows()\n",
    "            \n",
    "    def reset(self, screen_frame):\n",
    "        screen_frame = cv2.cvtColor(screen_frame, cv2.COLOR_BGR2RGB)\n",
    "        match_coords = template_matching.match_template(screen_frame, r'D:\\OneDrive - University at Buffalo\\Projects\\Misc\\Hill Climb Racing\\restarting_game\\press_button_to_continue.png', match_cordinates=True)\n",
    "        if match_coords:\n",
    "            # Calculate the absolute coordinates of the initial match relative to the game window\n",
    "            (x1, y1), (x2, y2) = match_coords\n",
    "            avg_x = (x1 + x2) // 2\n",
    "            avg_y = (y1 + y2) // 2\n",
    "\n",
    "            # Adjust coordinates relative to the game window\n",
    "            avg_x += self.left_coordinate\n",
    "            avg_y += self.top_coordinate\n",
    "\n",
    "\n",
    "            game_window = pygetwindow.getWindowsWithTitle(\"Hill Climb Racing\")[0]\n",
    "            game_window.activate()\n",
    "\n",
    "            # Click on the initial match position\n",
    "            time.sleep(5)\n",
    "            pyautogui.click(x=avg_x, y=avg_y)\n",
    "            time.sleep(5)  # Wait for the action to complete\n",
    "\n",
    "            # Match the start selected and unselected templates\n",
    "            match_coords_start_sel = template_matching.match_template(screen_frame, r'D:\\OneDrive - University at Buffalo\\Projects\\Misc\\Hill Climb Racing\\restarting_game\\start_crop.png', match_cordinates=True, threshold=0.5)\n",
    "            match_coords_start_unsel = template_matching.match_template(screen_frame, r'D:\\OneDrive - University at Buffalo\\Projects\\Misc\\Hill Climb Racing\\restarting_game\\start_unselected.png', match_cordinates=True)\n",
    "            print(match_coords_start_sel)\n",
    "            print(match_coords_start_unsel)\n",
    "            # Determine which template matches and click on the average position\n",
    "            if match_coords_start_sel:\n",
    "                print(\"select template matched\")\n",
    "                (x1, y1), (x2, y2) = match_coords_start_sel\n",
    "                avg_x = (x1 + x2) // 2\n",
    "                avg_y = (y1 + y2) // 2\n",
    "            elif match_coords_start_unsel:\n",
    "                print(\"unselected template matched\")\n",
    "                (x1, y1), (x2, y2) = match_coords_start_unsel\n",
    "                avg_x = (x1 + x2) // 2\n",
    "                avg_y = (y1 + y2) // 2\n",
    "            else:\n",
    "                raise AttributeError(\"Template did not matched\")\n",
    "\n",
    "            # Adjust coordinates relative to the game window\n",
    "            avg_x += self.left_coordinate\n",
    "            avg_y += self.top_coordinate\n",
    "\n",
    "            # Click on the determined position\n",
    "            time.sleep(3)\n",
    "            pyautogui.click(x=avg_x, y=avg_y)\n",
    "            time.sleep(5)  # Wait for the action to complete\n",
    "            print(\"Clicked on the determined position within the game window\")\n",
    "\n"
   ]
  },
  {
   "cell_type": "code",
   "execution_count": 55,
   "metadata": {},
   "outputs": [],
   "source": [
    "hill_climb_racing = HillClimbRacingEnv()\n",
    "# plt.imshow(hill_climb_racing.get_screen_capture())\n",
    "# hill_climb_racing.render()"
   ]
  },
  {
   "cell_type": "code",
   "execution_count": 56,
   "metadata": {},
   "outputs": [
    {
     "name": "stdout",
     "output_type": "stream",
     "text": [
      "None\n",
      "None\n"
     ]
    },
    {
     "ename": "AttributeError",
     "evalue": "Template did not matched",
     "output_type": "error",
     "traceback": [
      "\u001b[1;31m---------------------------------------------------------------------------\u001b[0m",
      "\u001b[1;31mAttributeError\u001b[0m                            Traceback (most recent call last)",
      "Cell \u001b[1;32mIn[56], line 1\u001b[0m\n\u001b[1;32m----> 1\u001b[0m \u001b[43mhill_climb_racing\u001b[49m\u001b[38;5;241;43m.\u001b[39;49m\u001b[43mreset\u001b[49m\u001b[43m(\u001b[49m\u001b[43mhill_climb_racing\u001b[49m\u001b[38;5;241;43m.\u001b[39;49m\u001b[43mget_screen_capture\u001b[49m\u001b[43m(\u001b[49m\u001b[43m)\u001b[49m\u001b[43m)\u001b[49m\n",
      "Cell \u001b[1;32mIn[54], line 131\u001b[0m, in \u001b[0;36mHillClimbRacingEnv.reset\u001b[1;34m(self, screen_frame)\u001b[0m\n\u001b[0;32m    129\u001b[0m     avg_y \u001b[38;5;241m=\u001b[39m (y1 \u001b[38;5;241m+\u001b[39m y2) \u001b[38;5;241m/\u001b[39m\u001b[38;5;241m/\u001b[39m \u001b[38;5;241m2\u001b[39m\n\u001b[0;32m    130\u001b[0m \u001b[38;5;28;01melse\u001b[39;00m:\n\u001b[1;32m--> 131\u001b[0m     \u001b[38;5;28;01mraise\u001b[39;00m \u001b[38;5;167;01mAttributeError\u001b[39;00m(\u001b[38;5;124m\"\u001b[39m\u001b[38;5;124mTemplate did not matched\u001b[39m\u001b[38;5;124m\"\u001b[39m)\n\u001b[0;32m    133\u001b[0m \u001b[38;5;66;03m# Adjust coordinates relative to the game window\u001b[39;00m\n\u001b[0;32m    134\u001b[0m avg_x \u001b[38;5;241m+\u001b[39m\u001b[38;5;241m=\u001b[39m \u001b[38;5;28mself\u001b[39m\u001b[38;5;241m.\u001b[39mleft_coordinate\n",
      "\u001b[1;31mAttributeError\u001b[0m: Template did not matched"
     ]
    }
   ],
   "source": [
    "hill_climb_racing.reset(hill_climb_racing.get_screen_capture())"
   ]
  },
  {
   "cell_type": "code",
   "execution_count": 7,
   "metadata": {},
   "outputs": [
    {
     "name": "stdout",
     "output_type": "stream",
     "text": [
      "Requirement already satisfied: gymnasium in c:\\users\\sujay\\miniconda3\\lib\\site-packages (0.29.1)\n",
      "Requirement already satisfied: numpy>=1.21.0 in c:\\users\\sujay\\miniconda3\\lib\\site-packages (from gymnasium) (1.26.4)\n",
      "Requirement already satisfied: cloudpickle>=1.2.0 in c:\\users\\sujay\\miniconda3\\lib\\site-packages (from gymnasium) (3.0.0)\n",
      "Requirement already satisfied: typing-extensions>=4.3.0 in c:\\users\\sujay\\miniconda3\\lib\\site-packages (from gymnasium) (4.9.0)\n",
      "Requirement already satisfied: farama-notifications>=0.0.1 in c:\\users\\sujay\\miniconda3\\lib\\site-packages (from gymnasium) (0.0.4)\n"
     ]
    }
   ],
   "source": [
    "# ! pip install gymnasium"
   ]
  },
  {
   "cell_type": "code",
   "execution_count": 58,
   "metadata": {},
   "outputs": [
    {
     "data": {
      "text/plain": [
       "((637, 376), (741, 429))"
      ]
     },
     "execution_count": 58,
     "metadata": {},
     "output_type": "execute_result"
    }
   ],
   "source": [
    "template_matching.match_template(hill_climb_racing.get_screen_capture(), r'D:\\OneDrive - University at Buffalo\\Projects\\Misc\\Hill Climb Racing\\restarting_game\\start_crop.png', match_cordinates=True, threshold=0.8)"
   ]
  },
  {
   "cell_type": "code",
   "execution_count": 12,
   "metadata": {},
   "outputs": [],
   "source": []
  },
  {
   "cell_type": "code",
   "execution_count": null,
   "metadata": {},
   "outputs": [],
   "source": [
    " "
   ]
  }
 ],
 "metadata": {
  "kernelspec": {
   "display_name": "base",
   "language": "python",
   "name": "python3"
  },
  "language_info": {
   "codemirror_mode": {
    "name": "ipython",
    "version": 3
   },
   "file_extension": ".py",
   "mimetype": "text/x-python",
   "name": "python",
   "nbconvert_exporter": "python",
   "pygments_lexer": "ipython3",
   "version": "3.11.5"
  }
 },
 "nbformat": 4,
 "nbformat_minor": 2
}
